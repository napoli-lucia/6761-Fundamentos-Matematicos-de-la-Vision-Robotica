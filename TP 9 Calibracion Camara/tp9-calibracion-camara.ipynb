{
 "cells": [
  {
   "cell_type": "markdown",
   "metadata": {
    "pycharm": {
     "name": "#%% md\n"
    }
   },
   "source": [
    "# TP9 Calibración de la Cámara\n",
    "\n",
    "## 0. Resumen\n",
    "1. Patrón\n",
    "2. Sacar fotos desde diferentes puntos de vista\n",
    "3. Encontrar esquinas\n",
    "4. Ecuaciones de proyección patrón => foto\n",
    "\n",
    "\\begin{equation}\n",
    "s \\begin{bmatrix}\n",
    "u_i \\\\ v_i \\\\ 1\n",
    "\\end{bmatrix} =\n",
    "\\begin{bmatrix}\n",
    "K\n",
    "\\end{bmatrix}\n",
    "\\begin{bmatrix}\n",
    "R_k | t_k\n",
    "\\end{bmatrix}\n",
    "\\begin{bmatrix}\n",
    "X_i \\\\ Y_i \\\\ Z_i \\\\ 1\n",
    "\\end{bmatrix}\n",
    "\\end{equation}\n",
    "\n",
    "K: 5 (o 4) parámetros\n",
    "\n",
    "R: 5 (o 9) parámetros\n",
    "\n",
    "t: 3 parámetros\n",
    "\n",
    "5. Hallar K, R_k, t_k y de yapa los coeficientes de distorsión.\n",
    "6. Rectificar la imagen  \n",
    "7. Bonus: dibujar en 3D  "
   ]
  },
  {
   "cell_type": "markdown",
   "metadata": {
    "pycharm": {
     "name": "#%% md\n"
    }
   },
   "source": [
    "## 1. Patrón\n",
    "\n",
    "![](patron.png)\n",
    "\n"
   ]
  },
  {
   "cell_type": "code",
   "execution_count": null,
   "metadata": {
    "pycharm": {
     "name": "#%%\n"
    }
   },
   "outputs": [],
   "source": [
    "import cv2\n",
    "import numpy as np\n",
    "import matplotlib.pyplot as plt\n",
    "print(\"OpenCV version \" + cv2.__version__)\n",
    "print(\"Numpy version \" + np.__version__)\n",
    "\n",
    "# Importamos librerías para manejo de tiempo\n",
    "import time\n",
    "\n",
    "#%matplotlib inline"
   ]
  },
  {
   "cell_type": "code",
   "execution_count": null,
   "metadata": {
    "pycharm": {
     "name": "#%%\n"
    }
   },
   "outputs": [],
   "source": [
    "import glob\n",
    "\n",
    "import PIL.ExifTags\n",
    "import PIL.Image"
   ]
  },
  {
   "cell_type": "markdown",
   "metadata": {
    "pycharm": {
     "name": "#%% md\n"
    }
   },
   "source": [
    "## 2. Fotos desde distintos puntos de vista"
   ]
  },
  {
   "cell_type": "code",
   "execution_count": null,
   "metadata": {
    "pycharm": {
     "name": "#%%\n"
    }
   },
   "outputs": [],
   "source": [
    "# Carpeta con las fotos\n",
    "#calib_fnames = glob.glob('./fotos prueba/*')\n",
    "calib_fnames = glob.glob('./fotos/*')\n",
    "\n",
    "print(\"Hay {} fotos del tablero\".format(len(calib_fnames)))\n",
    "\n",
    "mostrar_figuras = True"
   ]
  },
  {
   "cell_type": "markdown",
   "metadata": {
    "pycharm": {
     "name": "#%% md\n"
    }
   },
   "source": [
    "## 3, 4, 5. Identificación de Esquinas, Encontrar Matriz de Cámara"
   ]
  },
  {
   "cell_type": "code",
   "execution_count": null,
   "metadata": {
    "pycharm": {
     "name": "#%%\n"
    }
   },
   "outputs": [],
   "source": [
    "# Tamaño del tablero\n",
    "ch_size = (9, 9)\n",
    "\n",
    "# Listas de todos los puntos que vamos a recolectar\n",
    "obj_points = list()\n",
    "img_points = list()\n",
    "\n",
    "# Lista de los puntos que vamos a reconocer en el mundo\n",
    "# objp={(0,0,0), (1,0,0), (2,0,0) .... }\n",
    "# Corresponden a las coordenadas en el tablero de ajedrez\n",
    "objp = np.zeros((np.prod(ch_size), 3),  dtype=np.float32)\n",
    "objp[:, :2] = np.mgrid[0:ch_size[0], 0:ch_size[1]].T.reshape(-1, 2)\n",
    "\n",
    "#print(objp)"
   ]
  },
  {
   "cell_type": "markdown",
   "metadata": {},
   "source": [
    "Vamos a encontrar las esquinas en el tablero con la funcion findChessboardCorners que tiene como parametros a la imagen en escala de grises, el tamaño del tablero y un flag.\n",
    "\n",
    "Existen distintos flags:\n",
    "+ CALIB_CB_ADAPTIVE_THRESH: Utiliza el umbral adaptativo para convertir la imagen a blanco y negro, en lugar de un nivel de umbral fijo.\n",
    "+ CALIB_CB_FAST_CHECK: Ejecuta una verificación rápida en la imagen que busca las esquinas del tablero de ajedrez y realiza un atajo en la llamada si no se encuentra ninguna. Esto puede acelerar el proceso.\n",
    "+ CALIB_CB_NORMALIZE_IMAGE: Normaliza la imagen con ecualizacion de histogramas antes de aplicar umbral fijo o adaptativo.\n",
    "+ CALIB_CB_FILTER_QUADS: Utiliza criterios adicionales (como el área del contorno o el perímetro) para filtrar los falsos quads extraídos en la etapa de recuperación del contorno."
   ]
  },
  {
   "cell_type": "code",
   "execution_count": null,
   "metadata": {},
   "outputs": [],
   "source": [
    "# Criterio de corte para el proceso iterativo de refinamiento de esquinas.\n",
    "# Parar si iteramos maxCount veces o si las esquinas se mueven menos de epsilon\n",
    "maxCount = 25\n",
    "epsilon = 0.001\n",
    "criteria = (cv2.TERM_CRITERIA_EPS | cv2.TERM_CRITERIA_MAX_ITER, maxCount, epsilon)\n",
    "\n",
    "%matplotlib qt"
   ]
  },
  {
   "cell_type": "markdown",
   "metadata": {},
   "source": [
    "+ Funcion para encontrar las esquinas cambiando el flag"
   ]
  },
  {
   "cell_type": "code",
   "execution_count": null,
   "metadata": {},
   "outputs": [],
   "source": [
    "def encontrar_esquinas(cb_flags):\n",
    "    \n",
    "    start = time.time()\n",
    "\n",
    "    for image_fname in calib_fnames:\n",
    "        print(\"Procesando: \" + image_fname , end='... ')\n",
    "        img = cv2.imread(image_fname)\n",
    "        img_gray = cv2.cvtColor(img, cv2.COLOR_BGR2GRAY)\n",
    "        ret, corners = cv2.findChessboardCorners(img_gray, ch_size, flags=cb_flags)\n",
    "    \n",
    "        if ret:\n",
    "            print('Encontramos esquinas!')\n",
    "            obj_points.append(objp)\n",
    "            print('Buscando esquinas en resolución subpixel', end='... ')\n",
    "            corners_subp = cv2.cornerSubPix(img_gray, corners, (5, 5), (-1, -1), criteria)\n",
    "            print('OK!')\n",
    "            img_points.append(corners_subp)\n",
    "            \n",
    "            # Dibuja estos puntos que encontro\n",
    "            cv2.drawChessboardCorners(img, ch_size, corners_subp, ret)\n",
    "            \n",
    "            if mostrar_figuras:\n",
    "                plt.figure(figsize=(10,8))\n",
    "                plt.imshow(cv2.cvtColor(img, cv2.COLOR_BGR2RGB))\n",
    "                plt.show()\n",
    "        else:\n",
    "            print('No se encontraron esquinas')\n",
    "    \n",
    "    elapsed = time.time()-start\n",
    "    print('\\nTiempo de procesamiento {} segundos'.format(elapsed))"
   ]
  },
  {
   "cell_type": "markdown",
   "metadata": {},
   "source": [
    "Con todos los flags fue posible encontrar las esquinas en el tablero. La diferencia entre ellos es el tiempo de ejecucion"
   ]
  },
  {
   "cell_type": "markdown",
   "metadata": {},
   "source": [
    "+ CALIB_CB_ADAPTIVE_THRESH\n",
    "\n",
    "Con este flag le lleva bastante tiempo a la funcion poder procesar todas las imagenes, por eso lo utilizamos con solo 4 fotos."
   ]
  },
  {
   "cell_type": "code",
   "execution_count": null,
   "metadata": {},
   "outputs": [],
   "source": [
    "obj_points, img_points = list(), list()\n",
    "\n",
    "encontrar_esquinas(cv2.CALIB_CB_ADAPTIVE_THRESH)"
   ]
  },
  {
   "cell_type": "markdown",
   "metadata": {},
   "source": [
    "Los siguientes flags pudimos evaluarlos sin ningun problema en las 8 fotos sacadas."
   ]
  },
  {
   "cell_type": "markdown",
   "metadata": {},
   "source": [
    "+ CALIB_CB_FILTER_QUADS\n",
    "\n",
    "Este es el flag donde el proceso es el mas rapido."
   ]
  },
  {
   "cell_type": "code",
   "execution_count": null,
   "metadata": {},
   "outputs": [],
   "source": [
    "obj_points, img_points = list(), list()\n",
    "\n",
    "encontrar_esquinas(cv2.CALIB_CB_FILTER_QUADS)"
   ]
  },
  {
   "cell_type": "markdown",
   "metadata": {},
   "source": [
    "+ CALIB_CB_FAST_CHECK\n",
    "\n",
    "El tiempo de procesamiento es mas rapido que CALIB_CB_ADAPTIVE_THRESH, pero mas lento que CALIB_CB_FILTER_QUADS."
   ]
  },
  {
   "cell_type": "code",
   "execution_count": null,
   "metadata": {},
   "outputs": [],
   "source": [
    "obj_points, img_points = list(), list()\n",
    "\n",
    "encontrar_esquinas(cv2.CALIB_CB_FAST_CHECK)"
   ]
  },
  {
   "cell_type": "code",
   "execution_count": null,
   "metadata": {},
   "outputs": [],
   "source": [
    "print(\"Cantidad de puntos imagen: \", len(img_points))"
   ]
  },
  {
   "cell_type": "markdown",
   "metadata": {},
   "source": [
    "Con los dos ultimos flags se pudieron encontrar las esquinas en 6 de las 8 fotos sacadas."
   ]
  },
  {
   "cell_type": "markdown",
   "metadata": {
    "pycharm": {
     "name": "#%% md\n"
    }
   },
   "source": [
    "## 5. Calibración\n",
    "\n",
    "Utilizamos la funcion calibrateCamera que tiene como parametros los puntos objeto, los puntos imagen y el tamaño de la imagen.\n",
    "\n",
    "Esta funcion devuelve los siguientes valores:\n",
    "+ ret: boolean si funcionó o no\n",
    "+ mtx: matriz de la camara (matriz de parametros intrinsecos)\n",
    "+ dist: coeficientes de distorsion\n",
    "+ rvecs: vectores de rotacion\n",
    "+ tvecs: vectores de traslacion\n",
    "\n",
    "La matriz de la camara es:\n",
    "\\begin{equation}\n",
    "K = \\begin{bmatrix}\n",
    "f_x \\ 0 \\ t_x \\\\ 0 \\ f_y \\ t_y \\\\  0  \\  0  \\  1 \n",
    "\\end{bmatrix}\n",
    "\\end{equation}"
   ]
  },
  {
   "cell_type": "code",
   "execution_count": null,
   "metadata": {
    "pycharm": {
     "name": "#%%\n"
    }
   },
   "outputs": [],
   "source": [
    "idx=0\n",
    "\n",
    "img = cv2.imread(calib_fnames[idx])\n",
    "img_gray = cv2.cvtColor(img, cv2.COLOR_BGR2GRAY)\n",
    "imgRGB = cv2.cvtColor(img, cv2.COLOR_BGR2RGB)\n",
    "\n",
    "h, w = img_gray.shape\n",
    "\n",
    "plt.figure(figsize=(10,8))\n",
    "plt.imshow(imgRGB)\n",
    "plt.show()"
   ]
  },
  {
   "cell_type": "code",
   "execution_count": null,
   "metadata": {
    "pycharm": {
     "name": "#%%\n"
    }
   },
   "outputs": [],
   "source": [
    "ret, mtx, dist, rvecs, tvecs = cv2.calibrateCamera(obj_points, img_points, (w, h), None, None)\n",
    "\n",
    "print('Matriz de la camara = ')\n",
    "print(mtx)\n",
    "\n",
    "print('\\nCoeficientes de distorsion = ')\n",
    "print(dist)"
   ]
  },
  {
   "cell_type": "code",
   "execution_count": null,
   "metadata": {},
   "outputs": [],
   "source": [
    "print('Vectores de rotacion = ')\n",
    "print(rvecs)\n",
    "\n",
    "print('\\nVectores de traslacion = ')\n",
    "print(tvecs)"
   ]
  },
  {
   "cell_type": "code",
   "execution_count": null,
   "metadata": {
    "pycharm": {
     "name": "#%%\n"
    }
   },
   "outputs": [],
   "source": [
    "#En la foto se guarda la distancia focal\n",
    "print('Leyendo datos del header EXIF ...')\n",
    "exif_img = PIL.Image.open(calib_fnames[idx])\n",
    "\n",
    "exif_data = {\n",
    " PIL.ExifTags.TAGS[k]: v\n",
    " for k, v in exif_img._getexif().items()\n",
    " if k in PIL.ExifTags.TAGS\n",
    "}\n",
    "\n",
    "# Si quiero ver toda la informacion de la imagen:\n",
    "#print('Full exif dump:')\n",
    "#import pprint\n",
    "#pprint.pprint(exif_data)\n",
    "\n",
    "focal_length_exif = exif_data['FocalLength']\n",
    "print('Distancia focal = ', focal_length_exif, 'mm')"
   ]
  },
  {
   "cell_type": "markdown",
   "metadata": {},
   "source": [
    "Todas las fotos tienen una distancia focal de 5.53 mm, por lo tanto no coincide con el valor obtenido en la matriz de la camara, tanto en la distancia focal en x como en y."
   ]
  },
  {
   "cell_type": "markdown",
   "metadata": {
    "pycharm": {
     "name": "#%% md\n"
    }
   },
   "source": [
    "## 6. Rectificación (undistort)\n",
    "\n",
    "Rectificamos todas las imagenes donde se encontraron esquinas. Quitamos la distorsion que tienen con la funcion *undistort* que toma como parametros a la imagen, la matriz intrinseca de la camara y los coeficientes de distorsion."
   ]
  },
  {
   "cell_type": "code",
   "execution_count": null,
   "metadata": {},
   "outputs": [],
   "source": [
    "imgs_dst = []\n",
    "\n",
    "for i in range(6):\n",
    "    print('Rectificando imagen {}...'.format(i+1))\n",
    "    img_to_undistort = cv2.imread(calib_fnames[i])\n",
    "\n",
    "    dst = cv2.undistort(img_to_undistort, mtx, dist)\n",
    "    dst_rgb = cv2.cvtColor(dst, cv2.COLOR_BGR2RGB)\n",
    "    \n",
    "    #Guardamos las imagenes rectificadas en una lista\n",
    "    imgs_dst.append(dst)\n",
    "\n",
    "    plt.figure(figsize=(10,8))\n",
    "    plt.imshow(dst_rgb)\n",
    "    plt.show()"
   ]
  },
  {
   "cell_type": "markdown",
   "metadata": {
    "pycharm": {
     "name": "#%% md\n"
    }
   },
   "source": [
    "## A. Bonus: Dibujando en el Espacio\n",
    "\n",
    "Dibujamos en las imagenes donde se encontraron esquinas."
   ]
  },
  {
   "cell_type": "code",
   "execution_count": null,
   "metadata": {},
   "outputs": [],
   "source": [
    "# Vertices 3x3\n",
    "esquinas1 = np.float32([[0,0,0], [0,3,0], [3,3,0], [3,0,0],\n",
    "                        [0,0,-3],[0,3,-3],[3,3,-3],[3,0,-3]])\n",
    "\n",
    "# Vertices 1x1\n",
    "esquinas2 = np.float32([[0,0,0], [0,1,0], [1,1,0], [1,0,0],\n",
    "                        [0,0,-1],[0,1,-1],[1,1,-1],[1,0,-1]])"
   ]
  },
  {
   "cell_type": "markdown",
   "metadata": {},
   "source": [
    "### Dibujando un eje"
   ]
  },
  {
   "cell_type": "code",
   "execution_count": null,
   "metadata": {},
   "outputs": [],
   "source": [
    "def dibujar_eje(idx,esq_3d):\n",
    "\n",
    "    esquinas_2d, _ = cv2.projectPoints(esq_3d,rvecs[idx],tvecs[idx],mtx,dist)\n",
    "    esq_2d = esquinas_2d[:,0, :]\n",
    "\n",
    "    r = (0, 0, 255)  # r (in BGR)\n",
    "    b = (255, 0, 0)  # b (in BGR)\n",
    "    g = (0, 255, 0)  # g (in BGR)\n",
    "    line_width = 25\n",
    "    \n",
    "    img=cv2.imread(calib_fnames[idx])\n",
    "\n",
    "    #Redondeamos los valores de los puntos porque cv.line no toma puntos en np.float32\n",
    "    esq_round = []\n",
    "    for esquina in esq_2d:\n",
    "        x = round(esquina[0])\n",
    "        y = round(esquina[1])\n",
    "        \n",
    "        round_points = (x,y)\n",
    "        esq_round.append(round_points)\n",
    "\n",
    "    # Eje x\n",
    "    cv2.line(img, esq_round[0], esq_round[1], r, line_width)\n",
    "    \n",
    "    # Eje y\n",
    "    cv2.line(img, esq_round[0], esq_round[3], g, line_width)\n",
    "\n",
    "    # Eje z\n",
    "    cv2.line(img, esq_round[0], esq_round[4], b, line_width)\n",
    "\n",
    "    plt.figure(figsize=(10,8))\n",
    "    plt.imshow(img[..., ::-1])\n",
    "    plt.show()"
   ]
  },
  {
   "cell_type": "code",
   "execution_count": null,
   "metadata": {},
   "outputs": [],
   "source": [
    "for i in range(6):\n",
    "    print(\"Dibujando en la imagen \", i+1)\n",
    "    dibujar_eje(i,esquinas1)"
   ]
  },
  {
   "cell_type": "markdown",
   "metadata": {},
   "source": [
    "### Dibujando lineas de un cubo"
   ]
  },
  {
   "cell_type": "code",
   "execution_count": null,
   "metadata": {},
   "outputs": [],
   "source": [
    "def dibujar_cubo(idx, img, esq_3d):\n",
    "\n",
    "    esquinas_2d, _ = cv2.projectPoints(esq_3d,rvecs[idx],tvecs[idx],mtx,dist)\n",
    "    esq_2d = esquinas_2d[:,0, :]\n",
    "\n",
    "    r = (0, 0, 255)  # r (in BGR)\n",
    "    b = (255, 0, 0)  # b (in BGR)\n",
    "    g = (0, 255, 0)  # g (in BGR)\n",
    "    line_width = 15\n",
    "    \n",
    "    #img=cv2.imread(calib_fnames[idx])\n",
    "\n",
    "    #Redondeamos los valores de los puntos porque cv.line no toma puntos en np.float32\n",
    "    esq_round = []\n",
    "    for esquina in esq_2d:\n",
    "        x = round(esquina[0])\n",
    "        y = round(esquina[1])\n",
    "        \n",
    "        round_points = (x,y)\n",
    "        esq_round.append(round_points)\n",
    "\n",
    "    # base\n",
    "    cv2.line(img, esq_round[0], esq_round[1], r, line_width)\n",
    "    cv2.line(img, esq_round[1], esq_round[2], r, line_width)\n",
    "    cv2.line(img, esq_round[2], esq_round[3], r, line_width)\n",
    "    cv2.line(img, esq_round[3], esq_round[0], r, line_width)\n",
    "\n",
    "    # pilares\n",
    "    cv2.line(img, esq_round[0], esq_round[4], b, line_width)\n",
    "    cv2.line(img, esq_round[1], esq_round[5], b, line_width)\n",
    "    cv2.line(img, esq_round[2], esq_round[6], b, line_width)\n",
    "    cv2.line(img, esq_round[3], esq_round[7], b, line_width)\n",
    "\n",
    "    # tapa\n",
    "    cv2.line(img, esq_round[4], esq_round[5], g, line_width)\n",
    "    cv2.line(img, esq_round[5], esq_round[6], g, line_width)\n",
    "    cv2.line(img, esq_round[6], esq_round[7], g, line_width)\n",
    "    cv2.line(img, esq_round[7], esq_round[4], g, line_width)\n",
    "\n",
    "    plt.figure(figsize=(10,8))\n",
    "    plt.imshow(img[..., ::-1])\n",
    "    plt.show()"
   ]
  },
  {
   "cell_type": "code",
   "execution_count": null,
   "metadata": {},
   "outputs": [],
   "source": [
    "for i in range(6):\n",
    "    img=cv2.imread(calib_fnames[i])\n",
    "    print(\"Dibujando en la imagen \", i+1)\n",
    "    dibujar_cubo(i, img, esquinas1)"
   ]
  },
  {
   "cell_type": "markdown",
   "metadata": {},
   "source": [
    "### Dibujando cubo con base de color liso"
   ]
  },
  {
   "cell_type": "code",
   "execution_count": null,
   "metadata": {},
   "outputs": [],
   "source": [
    "# Dibujo en la primera imagen\n",
    "\n",
    "idx = 0\n",
    "esquinas_2d, _ = cv2.projectPoints(esquinas1,rvecs[idx],tvecs[idx],mtx,dist)\n",
    "esq_2d = esquinas_2d[:,0, :]\n",
    "\n",
    "r = (0, 0, 255)  # r (in BGR)\n",
    "b = (255, 0, 0)  # b (in BGR)\n",
    "g = (0, 255, 0)  # g (in BGR)\n",
    "line_width = 15\n",
    "\n",
    "img=cv2.imread(calib_fnames[idx])\n",
    "\n",
    "#Redondeamos los valores de los puntos porque cv.line no toma puntos en np.float32\n",
    "esq_round = []\n",
    "for esquina in esq_2d:\n",
    "    x = round(esquina[0])\n",
    "    y = round(esquina[1])\n",
    "    \n",
    "    round_points = (x,y)\n",
    "    esq_round.append(round_points)\n",
    "\n",
    "# base\n",
    "cv2.rectangle(img, esq_round[0], esq_round[2], r, -1)\n",
    "\n",
    "# pilares\n",
    "cv2.line(img, esq_round[0], esq_round[4], b, line_width)\n",
    "cv2.line(img, esq_round[1], esq_round[5], b, line_width)\n",
    "cv2.line(img, esq_round[2], esq_round[6], b, line_width)\n",
    "cv2.line(img, esq_round[3], esq_round[7], b, line_width)\n",
    "\n",
    "# tapa\n",
    "cv2.line(img, esq_round[4], esq_round[5], g, line_width)\n",
    "cv2.line(img, esq_round[5], esq_round[6], g, line_width)\n",
    "cv2.line(img, esq_round[6], esq_round[7], g, line_width)\n",
    "cv2.line(img, esq_round[7], esq_round[4], g, line_width)\n",
    "\n",
    "plt.figure(figsize=(10,8))\n",
    "plt.imshow(img[..., ::-1])\n",
    "plt.show()"
   ]
  },
  {
   "cell_type": "markdown",
   "metadata": {},
   "source": [
    "### Dibujamos un cubo en las imagenes rectificadas"
   ]
  },
  {
   "cell_type": "code",
   "execution_count": null,
   "metadata": {},
   "outputs": [],
   "source": [
    "for i in range(6):\n",
    "    img=imgs_dst[i]\n",
    "    print(\"Dibujando en la imagen \", i+1)\n",
    "    dibujar_cubo(i, img, esquinas1)"
   ]
  },
  {
   "cell_type": "markdown",
   "metadata": {},
   "source": [
    "## Cambiando iteraciones en criteria de cornerSubPix\n",
    "### Con menos iteraciones"
   ]
  },
  {
   "cell_type": "code",
   "execution_count": null,
   "metadata": {},
   "outputs": [],
   "source": [
    "obj_points, img_points = list(), list()\n",
    "maxCount = 6\n",
    "\n",
    "encontrar_esquinas(cv2.CALIB_CB_FILTER_QUADS)"
   ]
  },
  {
   "cell_type": "markdown",
   "metadata": {},
   "source": [
    "### Con mas iteraciones"
   ]
  },
  {
   "cell_type": "code",
   "execution_count": null,
   "metadata": {},
   "outputs": [],
   "source": [
    "obj_points, img_points = list(), list()\n",
    "maxCount = 40\n",
    "\n",
    "encontrar_esquinas(cv2.CALIB_CB_FILTER_QUADS)"
   ]
  },
  {
   "cell_type": "markdown",
   "metadata": {},
   "source": [
    "Tanto con mas o menos iteraciones obtenemos buenos resultados, la diferencia se observa en el tiempo de procesamiento."
   ]
  },
  {
   "cell_type": "markdown",
   "metadata": {},
   "source": [
    "## Usando otros flags en calibrateCamera"
   ]
  },
  {
   "cell_type": "code",
   "execution_count": null,
   "metadata": {},
   "outputs": [],
   "source": [
    "flags = ['cv2.CALIB_USE_INTRINSIC_GUESS', 'cv2.CALIB_FIX_PRINCIPAL_POINT', 'cv2.CALIB_FIX_ASPECT_RATIO',\n",
    "            'cv2.CALIB_ZERO_TANGENT_DIST', 'cv2.CALIB_RATIONAL_MODEL', 'cv2.CALIB_TILTED_MODEL']\n",
    "\n",
    "for f in flags:\n",
    "    \n",
    "    print(f)\n",
    "    flag = eval(f)\n",
    "    \n",
    "    ret, mtx, dist, rvecs, tvecs = cv2.calibrateCamera(obj_points, img_points, (w, h), None, flag)\n",
    "\n",
    "    print('\\nMatriz de la camara = ')\n",
    "    print(mtx)\n",
    "\n",
    "    print('\\nCoeficientes de distorsion = ')\n",
    "    print(dist)\n",
    "    \n",
    "    print('-----------------------------------------------------------------')"
   ]
  },
  {
   "cell_type": "markdown",
   "metadata": {},
   "source": [
    "Cada flag tiene un metodo distinto de proceso, pero aun asi con todos ellos se obtiene el mismo resultado tanto en la matriz de la camara como en los coeficientes de distorsion."
   ]
  }
 ],
 "metadata": {
  "kernelspec": {
   "display_name": "Python 3",
   "language": "python",
   "name": "python3"
  },
  "language_info": {
   "codemirror_mode": {
    "name": "ipython",
    "version": 3
   },
   "file_extension": ".py",
   "mimetype": "text/x-python",
   "name": "python",
   "nbconvert_exporter": "python",
   "pygments_lexer": "ipython3",
   "version": "3.8.8"
  }
 },
 "nbformat": 4,
 "nbformat_minor": 4
}
